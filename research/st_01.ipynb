{
 "cells": [
  {
   "cell_type": "markdown",
   "metadata": {},
   "source": [
    "Data Ingestion"
   ]
  },
  {
   "cell_type": "code",
   "execution_count": 37,
   "metadata": {},
   "outputs": [],
   "source": [
    "from collections import namedtuple\n",
    "import os"
   ]
  },
  {
   "cell_type": "code",
   "execution_count": 38,
   "metadata": {},
   "outputs": [],
   "source": [
    "# DataIngestionConfig = namedtuple(\"DataIngestionConfig\", [\n",
    "#     \"root_dir\",\n",
    "#     \"source_URL\",\n",
    "#     \"local_data_file\",\n",
    "#     \"unzip_dir\"\n",
    "# ])"
   ]
  },
  {
   "cell_type": "code",
   "execution_count": null,
   "metadata": {},
   "outputs": [],
   "source": [
    "# Configuration\n",
    "# both way we can use the return type\n",
    "from dataclasses import dataclass\n",
    "from pathlib import Path\n",
    "\n",
    "\n",
    "@dataclass(frozen=True)\n",
    "class DataIngestionConfig:\n",
    "    root_dir: Path\n",
    "    source_URL: str\n",
    "    local_data_file: Path\n",
    "    unzip_dir: Path"
   ]
  },
  {
   "cell_type": "code",
   "execution_count": 39,
   "metadata": {},
   "outputs": [],
   "source": [
    "from ConcreteCrack.constants import *\n",
    "from ConcreteCrack.utlis import read_yaml, create_directories"
   ]
  },
  {
   "cell_type": "code",
   "execution_count": 40,
   "metadata": {},
   "outputs": [],
   "source": [
    "class ConfigurationManager:\n",
    "    def __init__(\n",
    "        self,\n",
    "        config_filepath = CONFIG_FILE_PATH,\n",
    "        params_filepath = PARAMS_FILE_PATH):\n",
    "\n",
    "        self.config = read_yaml(config_filepath)\n",
    "        self.params = read_yaml(params_filepath)\n",
    "\n",
    "        create_directories([self.config.artifcats_root])\n",
    "\n",
    "    \n",
    "    def get_data_ingestion_config(self) -> DataIngestionConfig:\n",
    "        config = self.config.data_ingestion\n",
    "\n",
    "        create_directories([config.root_dir])\n",
    "\n",
    "        data_ingestion_config = DataIngestionConfig(\n",
    "            root_dir=config.root_dir,\n",
    "            source_URL=config.source_URL,\n",
    "            local_data_file=config.local_data_file,\n",
    "            unzip_dir=config.unzip_dir \n",
    "        )\n",
    "\n",
    "        return data_ingestion_config\n",
    "      "
   ]
  },
  {
   "cell_type": "code",
   "execution_count": 41,
   "metadata": {},
   "outputs": [],
   "source": [
    "# Components\n",
    "import os\n",
    "import urllib.request as request\n",
    "from zipfile import ZipFile"
   ]
  },
  {
   "cell_type": "code",
   "execution_count": 55,
   "metadata": {},
   "outputs": [],
   "source": [
    "class DataIngestion:\n",
    "    def __init__(self, config: DataIngestionConfig):\n",
    "        self.config = config\n",
    "\n",
    "    def download_file(self):\n",
    "        if not os.path.exists(self.config.local_data_file):\n",
    "            print(f\"Downloading file from {self.config.source_url} to {self.config.local_data_file}\")\n",
    "            filename, headers = request.urlretrieve(self.config.source_url, self.config.local_data_file)\n",
    "            print(f\"File downloaded: {filename}\")\n",
    "        else:\n",
    "            print(f\"File {self.config.local_data_file} already exists.\")\n",
    "\n",
    "    def _get_updated_list_of_files(self, list_of_files):\n",
    "        filtered_files = [\n",
    "            f for f in list_of_files \n",
    "            if f.lower().endswith(('.jpg', '.jpeg', '.png')) and \n",
    "            (\"background\" in f.lower() or \"defects\" in f.lower())\n",
    "        ]\n",
    "        print(\"Filtered files:\", filtered_files)  # Debugging statement\n",
    "        return filtered_files\n",
    "\n",
    "    def _preprocess(self, zf, f, working_dir):\n",
    "        target_filepath = os.path.join(working_dir, f)\n",
    "        if not os.path.exists(target_filepath):\n",
    "            zf.extract(f, working_dir)\n",
    "        if os.path.getsize(target_filepath) == 0:\n",
    "            os.remove(target_filepath)\n",
    "\n",
    "    def unzip_and_clean(self):\n",
    "        if not os.path.exists(self.config.local_data_file):\n",
    "            print(f\"File {self.config.local_data_file} does not exist.\")\n",
    "            return\n",
    "        \n",
    "        with ZipFile(self.config.local_data_file, mode=\"r\") as zf:\n",
    "            list_of_files = zf.namelist()\n",
    "            print(\"List of files in the zip:\", list_of_files)  # Debugging statement\n",
    "            \n",
    "            updated_list_of_files = self._get_updated_list_of_files(list_of_files)\n",
    "            \n",
    "            if not updated_list_of_files:\n",
    "                print(\"No files matched the criteria.\")\n",
    "            \n",
    "            for f in updated_list_of_files:\n",
    "                self._preprocess(zf, f, self.config.unzip_dir)\n"
   ]
  },
  {
   "cell_type": "code",
   "execution_count": 65,
   "metadata": {},
   "outputs": [
    {
     "name": "stdout",
     "output_type": "stream",
     "text": [
      "Current working directory: C:\\Users\\JH11272\\Desktop\\ML Projects\\ConcreteCrack\\research\\logs\n",
      "New working directory: C:\\Users\\JH11272\\Desktop\\ML Projects\\ConcreteCrack\n"
     ]
    }
   ],
   "source": [
    "# Print the current working directory\n",
    "print(\"Current working directory:\", os.getcwd())\n",
    "\n",
    "# Specify the path to the new working directory\n",
    "new_directory = r\"C:\\Users\\JH11272\\Desktop\\ML Projects\\ConcreteCrack\"\n",
    "\n",
    "# Change the current working directory\n",
    "os.chdir(new_directory)\n",
    "\n",
    "# Print the new working directory to verify the change\n",
    "print(\"New working directory:\", os.getcwd())"
   ]
  },
  {
   "cell_type": "code",
   "execution_count": 66,
   "metadata": {},
   "outputs": [
    {
     "name": "stdout",
     "output_type": "stream",
     "text": [
      "/c/Users/JH11272/Desktop/ML Projects/ConcreteCrack\n"
     ]
    }
   ],
   "source": [
    "!pwd"
   ]
  },
  {
   "cell_type": "code",
   "execution_count": 67,
   "metadata": {},
   "outputs": [
    {
     "name": "stdout",
     "output_type": "stream",
     "text": [
      "[2024-05-14 15:13:48,245: INFO: common: yaml file: config\\config.yaml loaded successfully]\n",
      "[2024-05-14 15:13:48,257: INFO: common: yaml file: params.yaml loaded successfully]\n",
      "[2024-05-14 15:13:48,259: INFO: common: created directory at: artifcats]\n"
     ]
    },
    {
     "name": "stdout",
     "output_type": "stream",
     "text": [
      "[2024-05-14 15:13:48,261: INFO: common: created directory at: artifcats/data_ingestion]\n",
      "File artifcats/data_ingestion/data.zip already exists.\n",
      "List of files in the zip: ['Concretecrack/background/', 'Concretecrack/background/image_0000001_crop_0000001.png', 'Concretecrack/background/image_0000001_crop_0000002.png', 'Concretecrack/background/image_0000001_crop_0000003.png', 'Concretecrack/background/image_0000001_crop_0000004.png', 'Concretecrack/background/image_0000001_crop_0000005.png', 'Concretecrack/background/image_0000002_crop_0000001.png', 'Concretecrack/background/image_0000002_crop_0000002.png', 'Concretecrack/background/image_0000002_crop_0000003.png', 'Concretecrack/background/image_0000002_crop_0000004.png', 'Concretecrack/background/image_0000002_crop_0000005.png', 'Concretecrack/background/image_0000003_crop_0000001.png', 'Concretecrack/background/image_0000003_crop_0000002.png', 'Concretecrack/background/image_0000003_crop_0000003.png', 'Concretecrack/background/image_0000003_crop_0000004.png', 'Concretecrack/background/image_0000003_crop_0000005.png', 'Concretecrack/background/image_0000004_crop_0000001.png', 'Concretecrack/background/image_0000004_crop_0000002.png', 'Concretecrack/background/image_0000004_crop_0000003.png', 'Concretecrack/background/image_0000004_crop_0000004.png', 'Concretecrack/background/image_0000004_crop_0000005.png', 'Concretecrack/background/image_0000006_crop_0000001.png', 'Concretecrack/background/image_0000006_crop_0000002.png', 'Concretecrack/background/image_0000006_crop_0000003.png', 'Concretecrack/defects/', 'Concretecrack/defects/image_0000084_crop_0000001.png', 'Concretecrack/defects/image_0000119_crop_0000001.png', 'Concretecrack/defects/image_0000164_crop_0000002.png', 'Concretecrack/defects/image_0000205_crop_0000001.png', 'Concretecrack/defects/image_0000397_crop_0000004.png', 'Concretecrack/defects/image_0000404_crop_0000002.png', 'Concretecrack/defects/image_0000404_crop_0000006.png', 'Concretecrack/defects/image_0000435_crop_0000001.png', 'Concretecrack/defects/image_0000440_crop_0000002.png', 'Concretecrack/defects/image_0000440_crop_0000003.png', 'Concretecrack/defects/image_0000463_crop_0000002.png', 'Concretecrack/defects/image_0000493_crop_0000002.png', 'Concretecrack/defects/image_0000514_crop_0000001.png', 'Concretecrack/defects/image_0000562_crop_0000005.png', 'Concretecrack/defects/image_0000563_crop_0000002.png', 'Concretecrack/defects/image_0000564_crop_0000001.png', 'Concretecrack/defects/image_0000566_crop_0000002.png', 'Concretecrack/defects/image_0000570_crop_0000004.png', 'Concretecrack/defects/image_0000570_crop_0000005.png', 'Concretecrack/defects/image_0000631_crop_0000001.png', 'Concretecrack/defects/image_0000675_crop_0000007.png', 'Concretecrack/defects/image_0000675_crop_0000008.png', 'Concretecrack/defects/image_0000761_crop_0000001.png', 'Concretecrack/ReadMe.txt']\n",
      "Filtered files: ['Concretecrack/background/image_0000001_crop_0000001.png', 'Concretecrack/background/image_0000001_crop_0000002.png', 'Concretecrack/background/image_0000001_crop_0000003.png', 'Concretecrack/background/image_0000001_crop_0000004.png', 'Concretecrack/background/image_0000001_crop_0000005.png', 'Concretecrack/background/image_0000002_crop_0000001.png', 'Concretecrack/background/image_0000002_crop_0000002.png', 'Concretecrack/background/image_0000002_crop_0000003.png', 'Concretecrack/background/image_0000002_crop_0000004.png', 'Concretecrack/background/image_0000002_crop_0000005.png', 'Concretecrack/background/image_0000003_crop_0000001.png', 'Concretecrack/background/image_0000003_crop_0000002.png', 'Concretecrack/background/image_0000003_crop_0000003.png', 'Concretecrack/background/image_0000003_crop_0000004.png', 'Concretecrack/background/image_0000003_crop_0000005.png', 'Concretecrack/background/image_0000004_crop_0000001.png', 'Concretecrack/background/image_0000004_crop_0000002.png', 'Concretecrack/background/image_0000004_crop_0000003.png', 'Concretecrack/background/image_0000004_crop_0000004.png', 'Concretecrack/background/image_0000004_crop_0000005.png', 'Concretecrack/background/image_0000006_crop_0000001.png', 'Concretecrack/background/image_0000006_crop_0000002.png', 'Concretecrack/background/image_0000006_crop_0000003.png', 'Concretecrack/defects/image_0000084_crop_0000001.png', 'Concretecrack/defects/image_0000119_crop_0000001.png', 'Concretecrack/defects/image_0000164_crop_0000002.png', 'Concretecrack/defects/image_0000205_crop_0000001.png', 'Concretecrack/defects/image_0000397_crop_0000004.png', 'Concretecrack/defects/image_0000404_crop_0000002.png', 'Concretecrack/defects/image_0000404_crop_0000006.png', 'Concretecrack/defects/image_0000435_crop_0000001.png', 'Concretecrack/defects/image_0000440_crop_0000002.png', 'Concretecrack/defects/image_0000440_crop_0000003.png', 'Concretecrack/defects/image_0000463_crop_0000002.png', 'Concretecrack/defects/image_0000493_crop_0000002.png', 'Concretecrack/defects/image_0000514_crop_0000001.png', 'Concretecrack/defects/image_0000562_crop_0000005.png', 'Concretecrack/defects/image_0000563_crop_0000002.png', 'Concretecrack/defects/image_0000564_crop_0000001.png', 'Concretecrack/defects/image_0000566_crop_0000002.png', 'Concretecrack/defects/image_0000570_crop_0000004.png', 'Concretecrack/defects/image_0000570_crop_0000005.png', 'Concretecrack/defects/image_0000631_crop_0000001.png', 'Concretecrack/defects/image_0000675_crop_0000007.png', 'Concretecrack/defects/image_0000675_crop_0000008.png', 'Concretecrack/defects/image_0000761_crop_0000001.png']\n"
     ]
    }
   ],
   "source": [
    "try:\n",
    "    config_manager = ConfigurationManager()\n",
    "    data_ingestion_config = config_manager.get_data_ingestion_config()\n",
    "    data_ingestion = DataIngestion(data_ingestion_config)\n",
    "    \n",
    "    data_ingestion.download_file()\n",
    "    data_ingestion.unzip_and_clean()\n",
    "except Exception as e:\n",
    "    print(f\"An error occurred: {e}\")\n",
    "    raise"
   ]
  },
  {
   "cell_type": "code",
   "execution_count": 11,
   "metadata": {},
   "outputs": [
    {
     "name": "stdout",
     "output_type": "stream",
     "text": [
      "/c/Users/JH11272/Desktop/ML Projects/ConcreteCrack/research\n"
     ]
    }
   ],
   "source": [
    "# present working directory\n",
    "!pwd"
   ]
  },
  {
   "cell_type": "code",
   "execution_count": 45,
   "metadata": {},
   "outputs": [],
   "source": [
    "os.chdir(\"../\")"
   ]
  },
  {
   "cell_type": "code",
   "execution_count": 51,
   "metadata": {},
   "outputs": [],
   "source": [
    "os.chdir(\"/\")"
   ]
  },
  {
   "cell_type": "code",
   "execution_count": 68,
   "metadata": {},
   "outputs": [
    {
     "name": "stdout",
     "output_type": "stream",
     "text": [
      "/c/Users/JH11272/Desktop/ML Projects/ConcreteCrack\n"
     ]
    }
   ],
   "source": [
    "!pwd"
   ]
  },
  {
   "cell_type": "code",
   "execution_count": null,
   "metadata": {},
   "outputs": [],
   "source": [
    "'''\n",
    "x/y/Cat/1.jpg\n",
    "'''"
   ]
  }
 ],
 "metadata": {
  "kernelspec": {
   "display_name": "crackdemo",
   "language": "python",
   "name": "python3"
  },
  "language_info": {
   "codemirror_mode": {
    "name": "ipython",
    "version": 3
   },
   "file_extension": ".py",
   "mimetype": "text/x-python",
   "name": "python",
   "nbconvert_exporter": "python",
   "pygments_lexer": "ipython3",
   "version": "3.8.19"
  }
 },
 "nbformat": 4,
 "nbformat_minor": 2
}
